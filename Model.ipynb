{
 "cells": [
  {
   "cell_type": "code",
   "execution_count": 1,
   "metadata": {
    "collapsed": false
   },
   "outputs": [],
   "source": [
    "import csv\n",
    "import scipy.misc\n",
    "import numpy as np\n",
    "import matplotlib.pyplot as plt\n",
    "import random \n",
    "import sklearn.utils\n",
    "%matplotlib inline\n",
    "import matplotlib\n"
   ]
  },
  {
   "cell_type": "markdown",
   "metadata": {},
   "source": [
    "Load Paths of training data"
   ]
  },
  {
   "cell_type": "code",
   "execution_count": 2,
   "metadata": {
    "collapsed": true
   },
   "outputs": [],
   "source": [
    "with open('recs/driving_log.csv') as fd:\n",
    "    reader = csv.reader(fd)\n",
    "    samples = [line for line in reader]\n",
    "\n"
   ]
  },
  {
   "cell_type": "markdown",
   "metadata": {},
   "source": [
    "Define Data augmentation functions"
   ]
  },
  {
   "cell_type": "code",
   "execution_count": 3,
   "metadata": {
    "collapsed": false
   },
   "outputs": [],
   "source": [
    "def brightness(image,angle):\n",
    "    image =  matplotlib.colors.rgb_to_hsv(image)\n",
    "    brightness = np.random.uniform()\n",
    "    image[:,:,2] = image[:,:,2] * brightness\n",
    "    image = matplotlib.colors.hsv_to_rgb(image)\n",
    "    \n",
    "    return image.astype(np.uint8),angle\n",
    "\n",
    "def identity(image,angle):\n",
    "    return image,angle\n",
    "\n",
    "def flip(image, angle):\n",
    "    image = np.fliplr(image)\n",
    "    return image,-angle\n",
    "\n",
    "functions = [brightness,identity,flip]"
   ]
  },
  {
   "cell_type": "markdown",
   "metadata": {},
   "source": [
    "Define data split for training and validation"
   ]
  },
  {
   "cell_type": "code",
   "execution_count": 4,
   "metadata": {
    "collapsed": true
   },
   "outputs": [],
   "source": [
    "from sklearn.model_selection import train_test_split\n",
    "train_samples, validation_samples = train_test_split(samples, test_size=0.15)\n"
   ]
  },
  {
   "cell_type": "markdown",
   "metadata": {},
   "source": [
    "Data generator"
   ]
  },
  {
   "cell_type": "code",
   "execution_count": 5,
   "metadata": {
    "collapsed": false
   },
   "outputs": [],
   "source": [
    "def generator(samples, batch_size=32):\n",
    "    mask = scipy.misc.imread('mask.png')/255\n",
    "    num_samples = len(samples)\n",
    "    while 1: # Loop forever so the generator never terminates\n",
    "        random.shuffle(samples)\n",
    "        for offset in range(0, num_samples, batch_size):\n",
    "            batch_samples = samples[offset:offset+batch_size]\n",
    "            images = []\n",
    "            angles = []\n",
    "            for batch_sample in batch_samples:\n",
    "                offset = [0,0.3, -0.3]\n",
    "                for img_idx in range(3):\n",
    "                    name = batch_sample[img_idx]\n",
    "                    angle = float(batch_sample[3])\n",
    "                    final_angle =angle+offset[img_idx]\n",
    "                    image = scipy.misc.imread(name)\n",
    "                    func = random.choice(functions)\n",
    "                    image,final_angle=func(image,final_angle)\n",
    "                    image= image*mask\n",
    "                    image=image/255\n",
    "                    images.append(image)\n",
    "                    angles.append(final_angle)\n",
    "\n",
    "            # trim image to only see section with road\n",
    "            X_train = np.array(images)\n",
    "            y_train = np.array(angles)\n",
    "            \n",
    "            yield  sklearn.utils.shuffle(X_train, y_train)\n"
   ]
  },
  {
   "cell_type": "markdown",
   "metadata": {},
   "source": [
    "Define model"
   ]
  },
  {
   "cell_type": "code",
   "execution_count": 6,
   "metadata": {
    "collapsed": false
   },
   "outputs": [
    {
     "name": "stderr",
     "output_type": "stream",
     "text": [
      "Using TensorFlow backend.\n"
     ]
    }
   ],
   "source": [
    "from keras.models import Model\n",
    "from keras.layers import *\n",
    "from keras import backend as K\n",
    "from keras.regularizers import l2\n",
    "\n",
    "def conv2d_bn(x, nb_filter, nb_row, nb_col,\n",
    "              border_mode='same', subsample=(1, 1),\n",
    "              name=None):\n",
    "    '''Utility function to apply conv + BN.\n",
    "    '''\n",
    "\n",
    "    x = Convolution2D(nb_filter, nb_row, nb_col,\n",
    "                      subsample=subsample,\n",
    "                      activation='relu',\n",
    "                      border_mode=border_mode,\n",
    "                      init='he_normal',\n",
    "                      W_regularizer=l2(0.001),)(x)\n",
    "    if K.image_dim_ordering() == 'th':\n",
    "        channel_axis = 1\n",
    "    else:\n",
    "        channel_axis = 3\n",
    "    x = BatchNormalization(axis=channel_axis)(x)\n",
    "    return x\n",
    "\n",
    "\n",
    "def build_model(input_shape):\n",
    "    img_input = Input(shape= input_shape, name='input' )\n",
    "    x = Cropping2D(cropping=((40,20), (0,0)), input_shape=(160,320,3))(img_input)\n",
    "    x = conv2d_bn(x,32,3,11,subsample=(1,1), border_mode='valid')\n",
    "    x = MaxPooling2D()(x)\n",
    "    x = conv2d_bn(x,64,3,11,subsample=(1,1), border_mode='valid')\n",
    "    x = MaxPooling2D()(x)\n",
    "    x = conv2d_bn(x,128,3,11,subsample=(1,1), border_mode='valid')\n",
    "    x = MaxPooling2D()(x)\n",
    "    x = conv2d_bn(x,32,3,11,subsample=(1,1), border_mode='valid')\n",
    "    x = MaxPooling2D()(x)\n",
    "    x = Flatten(name='Flatten')(x)\n",
    "    x = Dropout(0.65)(x)\n",
    "    x = Dense(256,  activation='tanh', )(x)\n",
    "    x = Dropout(0.65)(x)\n",
    "    pre = Dense(128,  activation='tanh', )(x)\n",
    "    ang= Dense(1, activation='linear',name='Angle')(pre)\n",
    "    model = Model(input=img_input, output=ang)\n",
    "    return model"
   ]
  },
  {
   "cell_type": "markdown",
   "metadata": {},
   "source": [
    "Build / Compile / Summary"
   ]
  },
  {
   "cell_type": "code",
   "execution_count": 7,
   "metadata": {
    "collapsed": false
   },
   "outputs": [],
   "source": [
    "model = build_model((160,320,3))"
   ]
  },
  {
   "cell_type": "code",
   "execution_count": 8,
   "metadata": {
    "collapsed": false
   },
   "outputs": [],
   "source": [
    "model.compile(loss='mse',optimizer='adam')"
   ]
  },
  {
   "cell_type": "code",
   "execution_count": 9,
   "metadata": {
    "collapsed": false
   },
   "outputs": [
    {
     "name": "stdout",
     "output_type": "stream",
     "text": [
      "____________________________________________________________________________________________________\n",
      "Layer (type)                     Output Shape          Param #     Connected to                     \n",
      "====================================================================================================\n",
      "input (InputLayer)               (None, 160, 320, 3)   0                                            \n",
      "____________________________________________________________________________________________________\n",
      "cropping2d_1 (Cropping2D)        (None, 100, 320, 3)   0           input[0][0]                      \n",
      "____________________________________________________________________________________________________\n",
      "convolution2d_1 (Convolution2D)  (None, 98, 310, 32)   3200        cropping2d_1[0][0]               \n",
      "____________________________________________________________________________________________________\n",
      "batchnormalization_1 (BatchNorma (None, 98, 310, 32)   128         convolution2d_1[0][0]            \n",
      "____________________________________________________________________________________________________\n",
      "maxpooling2d_1 (MaxPooling2D)    (None, 49, 155, 32)   0           batchnormalization_1[0][0]       \n",
      "____________________________________________________________________________________________________\n",
      "convolution2d_2 (Convolution2D)  (None, 47, 145, 64)   67648       maxpooling2d_1[0][0]             \n",
      "____________________________________________________________________________________________________\n",
      "batchnormalization_2 (BatchNorma (None, 47, 145, 64)   256         convolution2d_2[0][0]            \n",
      "____________________________________________________________________________________________________\n",
      "maxpooling2d_2 (MaxPooling2D)    (None, 23, 72, 64)    0           batchnormalization_2[0][0]       \n",
      "____________________________________________________________________________________________________\n",
      "convolution2d_3 (Convolution2D)  (None, 21, 62, 128)   270464      maxpooling2d_2[0][0]             \n",
      "____________________________________________________________________________________________________\n",
      "batchnormalization_3 (BatchNorma (None, 21, 62, 128)   512         convolution2d_3[0][0]            \n",
      "____________________________________________________________________________________________________\n",
      "maxpooling2d_3 (MaxPooling2D)    (None, 10, 31, 128)   0           batchnormalization_3[0][0]       \n",
      "____________________________________________________________________________________________________\n",
      "convolution2d_4 (Convolution2D)  (None, 8, 21, 32)     135200      maxpooling2d_3[0][0]             \n",
      "____________________________________________________________________________________________________\n",
      "batchnormalization_4 (BatchNorma (None, 8, 21, 32)     128         convolution2d_4[0][0]            \n",
      "____________________________________________________________________________________________________\n",
      "maxpooling2d_4 (MaxPooling2D)    (None, 4, 10, 32)     0           batchnormalization_4[0][0]       \n",
      "____________________________________________________________________________________________________\n",
      "Flatten (Flatten)                (None, 1280)          0           maxpooling2d_4[0][0]             \n",
      "____________________________________________________________________________________________________\n",
      "dropout_1 (Dropout)              (None, 1280)          0           Flatten[0][0]                    \n",
      "____________________________________________________________________________________________________\n",
      "dense_1 (Dense)                  (None, 256)           327936      dropout_1[0][0]                  \n",
      "____________________________________________________________________________________________________\n",
      "dropout_2 (Dropout)              (None, 256)           0           dense_1[0][0]                    \n",
      "____________________________________________________________________________________________________\n",
      "dense_2 (Dense)                  (None, 128)           32896       dropout_2[0][0]                  \n",
      "____________________________________________________________________________________________________\n",
      "Angle (Dense)                    (None, 1)             129         dense_2[0][0]                    \n",
      "====================================================================================================\n",
      "Total params: 838,497\n",
      "Trainable params: 837,985\n",
      "Non-trainable params: 512\n",
      "____________________________________________________________________________________________________\n"
     ]
    }
   ],
   "source": [
    "model.summary()"
   ]
  },
  {
   "cell_type": "markdown",
   "metadata": {},
   "source": [
    "Instanciate generators"
   ]
  },
  {
   "cell_type": "code",
   "execution_count": 10,
   "metadata": {
    "collapsed": false
   },
   "outputs": [],
   "source": [
    "train_generator = generator(train_samples, batch_size=32)\n",
    "validation_generator = generator(validation_samples, batch_size=32)\n",
    "\n",
    "\n"
   ]
  },
  {
   "cell_type": "markdown",
   "metadata": {},
   "source": [
    "Train Model"
   ]
  },
  {
   "cell_type": "code",
   "execution_count": 11,
   "metadata": {
    "collapsed": false
   },
   "outputs": [
    {
     "name": "stdout",
     "output_type": "stream",
     "text": [
      "Epoch 1/7\n",
      "21120/21120 [==============================] - 124s - loss: 0.7496 - val_loss: 0.5553\n",
      "Epoch 2/7\n",
      "21120/21120 [==============================] - 115s - loss: 0.5035 - val_loss: 0.3952\n",
      "Epoch 3/7\n",
      "21120/21120 [==============================] - 113s - loss: 0.3588 - val_loss: 0.3101\n",
      "Epoch 4/7\n",
      "21120/21120 [==============================] - 112s - loss: 0.2556 - val_loss: 0.2127\n",
      "Epoch 5/7\n",
      "21120/21120 [==============================] - 113s - loss: 0.1862 - val_loss: 0.1634\n",
      "Epoch 6/7\n",
      "21120/21120 [==============================] - 116s - loss: 0.1409 - val_loss: 0.1297\n",
      "Epoch 7/7\n",
      "21120/21120 [==============================] - 119s - loss: 0.1108 - val_loss: 0.1129\n"
     ]
    },
    {
     "data": {
      "text/plain": [
       "<keras.callbacks.History at 0x7ff327934be0>"
      ]
     },
     "execution_count": 11,
     "metadata": {},
     "output_type": "execute_result"
    }
   ],
   "source": [
    "model.fit_generator(train_generator,\n",
    "                    samples_per_epoch= 3*len(train_samples),\n",
    "                    validation_data=validation_generator,\n",
    "                    nb_val_samples=3*len(validation_samples),\n",
    "                    nb_epoch=7)"
   ]
  },
  {
   "cell_type": "markdown",
   "metadata": {},
   "source": [
    "Save Model"
   ]
  },
  {
   "cell_type": "code",
   "execution_count": 12,
   "metadata": {
    "collapsed": false
   },
   "outputs": [],
   "source": [
    "model.save('model.h5')"
   ]
  },
  {
   "cell_type": "code",
   "execution_count": null,
   "metadata": {
    "collapsed": true
   },
   "outputs": [],
   "source": []
  },
  {
   "cell_type": "code",
   "execution_count": null,
   "metadata": {
    "collapsed": true
   },
   "outputs": [],
   "source": []
  }
 ],
 "metadata": {
  "kernelspec": {
   "display_name": "Python 3",
   "language": "python",
   "name": "python3"
  },
  "language_info": {
   "codemirror_mode": {
    "name": "ipython",
    "version": 3
   },
   "file_extension": ".py",
   "mimetype": "text/x-python",
   "name": "python",
   "nbconvert_exporter": "python",
   "pygments_lexer": "ipython3",
   "version": "3.4.3"
  }
 },
 "nbformat": 4,
 "nbformat_minor": 1
}
